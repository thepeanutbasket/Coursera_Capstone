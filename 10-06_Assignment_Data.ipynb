{
 "cells": [
  {
   "cell_type": "markdown",
   "id": "usual-woman",
   "metadata": {},
   "source": [
    "# Optimal Location for an Italian Restaurant in Manhattan"
   ]
  },
  {
   "cell_type": "markdown",
   "id": "forbidden-browser",
   "metadata": {},
   "source": [
    "### Introduction"
   ]
  },
  {
   "cell_type": "markdown",
   "id": "seasonal-competition",
   "metadata": {},
   "source": [
    "In this project, I will try to find an optimal location(postal code) for an Italian restaurant in Manhattan, NY."
   ]
  },
  {
   "cell_type": "markdown",
   "id": "northern-springer",
   "metadata": {},
   "source": [
    "I will try to find the location which is generally growded and where there are many restaurants but not a lot of Italian restaurants. Therefore, the first condition will be where people have a good access to many different restaurants, and the second condition will be where there are as few Italian restaurants as possible."
   ]
  },
  {
   "cell_type": "markdown",
   "id": "voluntary-boring",
   "metadata": {},
   "source": [
    "I will use methods that I learned through IBM Data Science courses to explore and utilize the dataset from Foursquare."
   ]
  },
  {
   "cell_type": "markdown",
   "id": "invalid-commission",
   "metadata": {},
   "source": [
    "### Data"
   ]
  },
  {
   "cell_type": "markdown",
   "id": "guilty-empire",
   "metadata": {},
   "source": [
    "I will need the following information to solve the problem stated above."
   ]
  },
  {
   "cell_type": "markdown",
   "id": "solved-tender",
   "metadata": {},
   "source": [
    "* the number of any restaurants in Manhattan, NY and their exact location.  \n",
    "* the number of Italian restaurants in Manhattan, NY and their exact location."
   ]
  },
  {
   "cell_type": "markdown",
   "id": "likely-crossing",
   "metadata": {},
   "source": [
    "Following data sources will be needed to extract/generate the required information:"
   ]
  },
  {
   "cell_type": "markdown",
   "id": "damaged-champagne",
   "metadata": {},
   "source": [
    "* Dataset related to restaurants will be extracted from FourSquare API.\n",
    "    * name, categories of the restaurants, latitude and longitude of the restraurants.\n",
    "* Dataset related to geographical coordinates of neighborhood will be generated using the data provided by IBM.\n",
    "    * postal code, latitude, longitude of each neighborhood."
   ]
  }
 ],
 "metadata": {
  "kernelspec": {
   "display_name": "Python 3",
   "language": "python",
   "name": "python3"
  },
  "language_info": {
   "codemirror_mode": {
    "name": "ipython",
    "version": 3
   },
   "file_extension": ".py",
   "mimetype": "text/x-python",
   "name": "python",
   "nbconvert_exporter": "python",
   "pygments_lexer": "ipython3",
   "version": "3.8.6"
  }
 },
 "nbformat": 4,
 "nbformat_minor": 5
}
