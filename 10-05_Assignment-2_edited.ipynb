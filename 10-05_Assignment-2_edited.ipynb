{
 "cells": [
  {
   "cell_type": "markdown",
   "id": "powerful-destination",
   "metadata": {},
   "source": [
    "# Assignment"
   ]
  },
  {
   "cell_type": "code",
   "execution_count": 1,
   "id": "organized-writing",
   "metadata": {},
   "outputs": [
    {
     "name": "stdout",
     "output_type": "stream",
     "text": [
      "Libraries imported.\n"
     ]
    }
   ],
   "source": [
    "# importing necessary libraries\n",
    "import numpy as np # library to handle data in a vectorized manner\n",
    "\n",
    "import pandas as pd # library for data analsysis\n",
    "pd.set_option('display.max_columns', None)\n",
    "pd.set_option('display.max_rows', None)\n",
    "\n",
    "import json # library to handle JSON files\n",
    "\n",
    "#!conda install -c conda-forge geopy --yes # uncomment this line if you haven't completed the Foursquare API lab\n",
    "from geopy.geocoders import Nominatim # convert an address into latitude and longitude values\n",
    "\n",
    "import requests # library to handle requests\n",
    "from pandas.io.json import json_normalize # tranform JSON file into a pandas dataframe\n",
    "\n",
    "# Matplotlib and associated plotting modules\n",
    "import matplotlib.cm as cm\n",
    "import matplotlib.colors as colors\n",
    "\n",
    "# import k-means from clustering stage\n",
    "from sklearn.cluster import KMeans\n",
    "\n",
    "#!conda install -c conda-forge folium=0.5.0 --yes # uncomment this line if you haven't completed the Foursquare API lab\n",
    "import folium # map rendering library\n",
    "\n",
    "print('Libraries imported.')"
   ]
  },
  {
   "cell_type": "markdown",
   "id": "featured-afternoon",
   "metadata": {},
   "source": [
    "## 1. downloading the data and making a clean dataframe"
   ]
  },
  {
   "cell_type": "code",
   "execution_count": 2,
   "id": "stupid-lebanon",
   "metadata": {},
   "outputs": [],
   "source": [
    "from bs4 import BeautifulSoup"
   ]
  },
  {
   "cell_type": "code",
   "execution_count": 3,
   "id": "temporal-classics",
   "metadata": {},
   "outputs": [],
   "source": [
    "import requests\n",
    "\n",
    "url = 'https://en.wikipedia.org/wiki/List_of_postal_codes_of_Canada:_M'\n",
    "\n",
    "from urllib.request import urlopen\n",
    "html = urlopen(url)\n",
    "soup = BeautifulSoup(html, \"html.parser\")"
   ]
  },
  {
   "cell_type": "code",
   "execution_count": 4,
   "id": "engaging-diagram",
   "metadata": {},
   "outputs": [],
   "source": [
    "tbody = soup.find('tbody')"
   ]
  },
  {
   "cell_type": "code",
   "execution_count": 5,
   "id": "trained-father",
   "metadata": {},
   "outputs": [
    {
     "data": {
      "text/plain": [
       "'\\nM1ANot assigned\\n\\n'"
      ]
     },
     "execution_count": 5,
     "metadata": {},
     "output_type": "execute_result"
    }
   ],
   "source": [
    "tbody.find('td').text"
   ]
  },
  {
   "cell_type": "code",
   "execution_count": 6,
   "id": "convinced-caution",
   "metadata": {},
   "outputs": [
    {
     "data": {
      "text/plain": [
       "4"
      ]
     },
     "execution_count": 6,
     "metadata": {},
     "output_type": "execute_result"
    }
   ],
   "source": [
    "import re\n",
    "tbody.find('td').text.find('Not')"
   ]
  },
  {
   "cell_type": "code",
   "execution_count": 7,
   "id": "exotic-grain",
   "metadata": {},
   "outputs": [
    {
     "data": {
      "text/plain": [
       "<td style=\"width:11%; vertical-align:top; color:#ccc;\">\n",
       "<p><b>M1A</b><br/><span style=\"font-size:85%;\"><i>Not assigned</i></span>\n",
       "</p>\n",
       "</td>"
      ]
     },
     "execution_count": 7,
     "metadata": {},
     "output_type": "execute_result"
    }
   ],
   "source": [
    "tbody.find_all('td')[0]"
   ]
  },
  {
   "cell_type": "code",
   "execution_count": 8,
   "id": "hybrid-requirement",
   "metadata": {},
   "outputs": [
    {
     "data": {
      "text/plain": [
       "'\\nM1ANot assigned\\n\\n'"
      ]
     },
     "execution_count": 8,
     "metadata": {},
     "output_type": "execute_result"
    }
   ],
   "source": [
    "tbody.find_all('td')[0].text"
   ]
  },
  {
   "cell_type": "code",
   "execution_count": 9,
   "id": "higher-fraud",
   "metadata": {},
   "outputs": [
    {
     "data": {
      "text/plain": [
       "'\\nM4ANorth York(Victoria Village)\\n\\n'"
      ]
     },
     "execution_count": 9,
     "metadata": {},
     "output_type": "execute_result"
    }
   ],
   "source": [
    "tbody.find_all('td')[3].text"
   ]
  },
  {
   "cell_type": "code",
   "execution_count": 10,
   "id": "resistant-procurement",
   "metadata": {},
   "outputs": [],
   "source": [
    "toronto_data = []"
   ]
  },
  {
   "cell_type": "code",
   "execution_count": 11,
   "id": "norman-prisoner",
   "metadata": {
    "tags": []
   },
   "outputs": [
    {
     "data": {
      "text/plain": [
       "['\\nM3ANorth York(Parkwoods)\\n\\n',\n",
       " '\\nM4ANorth York(Victoria Village)\\n\\n',\n",
       " '\\nM5ADowntown Toronto(Regent Park / Harbourfront)\\n\\n',\n",
       " '\\nM6ANorth York(Lawrence Manor / Lawrence Heights)\\n\\n',\n",
       " \"\\nM7AQueen's Park(Ontario Provincial Government)\\n\\n\",\n",
       " '\\nM9AEtobicoke(Islington Avenue)\\n\\n',\n",
       " '\\nM1BScarborough(Malvern / Rouge)\\n\\n',\n",
       " '\\nM3BNorth York(Don Mills)North\\n\\n',\n",
       " '\\nM4BEast York(Parkview Hill / Woodbine Gardens)\\n\\n',\n",
       " '\\nM5BDowntown Toronto(Garden District, Ryerson)\\n\\n',\n",
       " '\\nM6BNorth York(Glencairn)\\n\\n',\n",
       " '\\nM9BEtobicoke(West Deane Park / Princess Gardens / Martin Grove / Islington / Cloverdale)\\n\\n',\n",
       " '\\nM1CScarborough(Rouge Hill / Port Union / Highland Creek)\\n\\n',\n",
       " '\\nM3CNorth York(Don Mills)South(Flemingdon Park)\\n\\n',\n",
       " '\\nM4CEast York(Woodbine Heights)\\n\\n',\n",
       " '\\nM5CDowntown Toronto(St. James Town)\\n\\n',\n",
       " '\\nM6CYork(Humewood-Cedarvale)\\n\\n',\n",
       " '\\nM9CEtobicoke(Eringate / Bloordale Gardens / Old Burnhamthorpe / Markland Wood)\\n\\n',\n",
       " '\\nM1EScarborough(Guildwood / Morningside / West Hill)\\n\\n',\n",
       " '\\nM4EEast Toronto(The Beaches)\\n\\n',\n",
       " '\\nM5EDowntown Toronto(Berczy Park)\\n\\n',\n",
       " '\\nM6EYork(Caledonia-Fairbanks)\\n\\n',\n",
       " '\\nM1GScarborough(Woburn)\\n\\n',\n",
       " '\\nM4GEast York(Leaside)\\n\\n',\n",
       " '\\nM5GDowntown Toronto(Central Bay Street)\\n\\n',\n",
       " '\\nM6GDowntown Toronto(Christie)\\n\\n',\n",
       " '\\nM1HScarborough(Cedarbrae)\\n\\n',\n",
       " '\\nM2HNorth York(Hillcrest Village)\\n\\n',\n",
       " '\\nM3HNorth York(Bathurst Manor / Wilson Heights / Downsview North)\\n\\n',\n",
       " '\\nM4HEast York(Thorncliffe Park)\\n\\n',\n",
       " '\\nM5HDowntown Toronto(Richmond / Adelaide / King)\\n\\n',\n",
       " '\\nM6HWest Toronto(Dufferin / Dovercourt Village)\\n\\n',\n",
       " '\\nM1JScarborough(Scarborough Village)\\n\\n',\n",
       " '\\nM2JNorth York(Fairview / Henry Farm / Oriole)\\n\\n',\n",
       " '\\nM3JNorth York(Northwood Park / York University)\\n\\n',\n",
       " '\\nM4JEast YorkEast Toronto(The Danforth  East)\\n\\n',\n",
       " '\\nM5JDowntown Toronto(Harbourfront East / Union Station / Toronto Islands)\\n\\n',\n",
       " '\\nM6JWest Toronto(Little Portugal / Trinity)\\n\\n',\n",
       " '\\nM1KScarborough(Kennedy Park / Ionview / East Birchmount Park)\\n\\n',\n",
       " '\\nM2KNorth York(Bayview Village)\\n\\n',\n",
       " '\\nM3KNorth York(Downsview)East  (CFB Toronto)\\n\\n',\n",
       " '\\nM4KEast Toronto(The Danforth West / Riverdale)\\n\\n',\n",
       " '\\nM5KDowntown Toronto(Toronto Dominion Centre / Design Exchange)\\n\\n',\n",
       " '\\nM6KWest Toronto(Brockton / Parkdale Village / Exhibition Place)\\n\\n',\n",
       " '\\nM1LScarborough(Golden Mile / Clairlea / Oakridge)\\n\\n',\n",
       " '\\nM2LNorth York(York Mills / Silver Hills)\\n\\n',\n",
       " '\\nM3LNorth York(Downsview)West\\n\\n',\n",
       " '\\nM4LEast Toronto(India Bazaar / The Beaches West)\\n\\n',\n",
       " '\\nM5LDowntown Toronto(Commerce Court / Victoria Hotel)\\n\\n',\n",
       " '\\nM6LNorth York(North Park / Maple Leaf Park / Upwood Park)\\n\\n',\n",
       " '\\nM9LNorth York(Humber Summit)\\n\\n',\n",
       " '\\nM1MScarborough(Cliffside / Cliffcrest / Scarborough Village West)\\n\\n',\n",
       " '\\nM2MNorth York(Willowdale / Newtonbrook)\\n\\n',\n",
       " '\\nM3MNorth York(Downsview)Central\\n\\n',\n",
       " '\\nM4MEast Toronto(Studio District)\\n\\n',\n",
       " '\\nM5MNorth York(Bedford Park / Lawrence Manor East)\\n\\n',\n",
       " '\\nM6MYork(Del Ray / Mount Dennis / Keelsdale and Silverthorn)\\n\\n',\n",
       " '\\nM9MNorth York(Humberlea / Emery)\\n\\n',\n",
       " '\\nM1NScarborough(Birch Cliff / Cliffside West)\\n\\n',\n",
       " '\\nM2NNorth York(Willowdale)South\\n\\n',\n",
       " '\\nM3NNorth York(Downsview)Northwest\\n\\n',\n",
       " '\\nM4NCentral Toronto(Lawrence Park)\\n\\n',\n",
       " '\\nM5NCentral Toronto(Roselawn)\\n\\n',\n",
       " '\\nM6NYork(Runnymede / The Junction North)\\n\\n',\n",
       " '\\nM9NYork(Weston)\\n\\n',\n",
       " '\\nM1PScarborough(Dorset Park / Wexford Heights / Scarborough Town Centre)\\n\\n',\n",
       " '\\nM2PNorth York(York Mills West)\\n\\n',\n",
       " '\\nM4PCentral Toronto(Davisville North)\\n\\n',\n",
       " '\\nM5PCentral Toronto(Forest Hill North & West)\\n\\n',\n",
       " '\\nM6PWest Toronto(High Park / The Junction South)\\n\\n',\n",
       " '\\nM9PEtobicoke(Westmount)\\n\\n',\n",
       " '\\nM1RScarborough(Wexford / Maryvale)\\n\\n',\n",
       " '\\nM2RNorth York(Willowdale)West\\n\\n',\n",
       " '\\nM4RCentral Toronto(North Toronto West)\\n\\n',\n",
       " '\\nM5RCentral Toronto(The Annex / North Midtown / Yorkville)\\n\\n',\n",
       " '\\nM6RWest Toronto(Parkdale / Roncesvalles)\\n\\n',\n",
       " '\\nM7RMississaugaCanada Post Gateway Processing Centre(Enclave of L4W)\\n\\n',\n",
       " '\\nM9REtobicoke(Kingsview Village / St. Phillips / Martin Grove Gardens / Richview Gardens)\\n\\n',\n",
       " '\\nM1SScarborough(Agincourt) \\n\\n',\n",
       " '\\nM4SCentral Toronto(Davisville)\\n\\n',\n",
       " '\\nM5SDowntown Toronto(University of Toronto / Harbord)\\n\\n',\n",
       " '\\nM6SWest Toronto(Runnymede / Swansea)\\n\\n',\n",
       " \"\\nM1TScarborough(Clarks Corners / Tam O'Shanter / Sullivan)\\n\\n\",\n",
       " '\\nM4TCentral Toronto(Moore Park / Summerhill East)\\n\\n',\n",
       " '\\nM5TDowntown Toronto(Kensington Market / Chinatown / Grange Park)\\n\\n',\n",
       " \"\\nM1VScarborough(Milliken / Agincourt North / Steeles East / L'Amoreaux East)\\n\\n\",\n",
       " '\\nM4VCentral Toronto(Summerhill West / Rathnelly / South Hill / Forest Hill SE / Deer Park)\\n\\n',\n",
       " '\\nM5VDowntown Toronto(CN Tower / King and Spadina / Railway Lands / Harbourfront West / Bathurst Quay / South Niagara / Island airport)\\n\\n',\n",
       " '\\nM8VEtobicoke(New Toronto / Mimico South / Humber Bay Shores)\\n\\n',\n",
       " '\\nM9VEtobicoke(South Steeles / Silverstone / Humbergate / Jamestown / Mount Olive / Beaumond Heights / Thistletown / Albion Gardens)\\n\\n',\n",
       " \"\\nM1WScarborough(Steeles West / L'Amoreaux West)\\n\\n\",\n",
       " '\\nM4WDowntown Toronto(Rosedale)\\n\\n',\n",
       " '\\nM5WDowntown TorontoStn A PO Boxes25 The Esplanade(Enclave of M5E)\\n\\n',\n",
       " '\\nM8WEtobicoke(Alderwood / Long Branch)\\n\\n',\n",
       " '\\nM9WEtobicokeNorthwest(Clairville / Humberwood / Woodbine Downs / West Humber / Kipling Heights / Rexdale / Elms / Tandridge / Old Rexdale)\\n\\n',\n",
       " '\\nM1XScarborough(Upper Rouge)\\n\\n',\n",
       " '\\nM4XDowntown Toronto(St. James Town / Cabbagetown)\\n\\n',\n",
       " '\\nM5XDowntown Toronto(First Canadian Place / Underground city)\\n\\n',\n",
       " '\\nM8XEtobicoke(The Kingsway / Montgomery Road / Old Mill North)\\n\\n',\n",
       " '\\nM4YDowntown Toronto(Church and Wellesley)\\n\\n',\n",
       " '\\nM7YEast TorontoBusiness reply mail Processing Centre969 Eastern(Enclave of M4L)\\n\\n',\n",
       " \"\\nM8YEtobicoke(Old Mill South / King's Mill Park / Sunnylea / Humber Bay / Mimico NE / The Queensway East / Royal York South East / Kingsway Park South East)\\n\\n\",\n",
       " '\\nM8ZEtobicoke(Mimico NW / The Queensway West / South of Bloor / Kingsway Park South West / Royal York South West)\\n\\n']"
      ]
     },
     "execution_count": 11,
     "metadata": {},
     "output_type": "execute_result"
    }
   ],
   "source": [
    "for i in range(0, len(tbody.find_all('td'))):\n",
    "    if tbody.find_all('td')[i].text.find('Not') > 0:\n",
    "        continue\n",
    "    else:\n",
    "        toronto_data.append(tbody.find_all('td')[i].text)\n",
    "        \n",
    "toronto_data"
   ]
  },
  {
   "cell_type": "code",
   "execution_count": 12,
   "id": "cooked-monitoring",
   "metadata": {},
   "outputs": [
    {
     "data": {
      "text/plain": [
       "'N'"
      ]
     },
     "execution_count": 12,
     "metadata": {},
     "output_type": "execute_result"
    }
   ],
   "source": [
    "toronto_data[1][4]"
   ]
  },
  {
   "cell_type": "code",
   "execution_count": 13,
   "id": "extensive-panama",
   "metadata": {},
   "outputs": [
    {
     "data": {
      "text/plain": [
       "'Victoria Village)\\n\\n'"
      ]
     },
     "execution_count": 13,
     "metadata": {},
     "output_type": "execute_result"
    }
   ],
   "source": [
    "toronto_data[1].split('(')[1]"
   ]
  },
  {
   "cell_type": "code",
   "execution_count": 14,
   "id": "cultural-klein",
   "metadata": {},
   "outputs": [
    {
     "data": {
      "text/plain": [
       "dict_keys(['PostalCode', 'Borough', 'Neighborhood'])"
      ]
     },
     "execution_count": 14,
     "metadata": {},
     "output_type": "execute_result"
    }
   ],
   "source": [
    "postalcode = []\n",
    "borough = []\n",
    "neighborhood = []\n",
    "\n",
    "for i in toronto_data:\n",
    "    \n",
    "    postalcode.append(i[1:4])\n",
    "    borough.append(i.split('(')[0][4:])\n",
    "    neighborhood.append(i.split('(')[1])\n",
    "    \n",
    "dict = {'PostalCode' : postalcode, 'Borough' : borough, 'Neighborhood' : neighborhood}\n",
    "dict.keys()"
   ]
  },
  {
   "cell_type": "code",
   "execution_count": 15,
   "id": "unauthorized-cinema",
   "metadata": {},
   "outputs": [
    {
     "data": {
      "text/html": [
       "<div>\n",
       "<style scoped>\n",
       "    .dataframe tbody tr th:only-of-type {\n",
       "        vertical-align: middle;\n",
       "    }\n",
       "\n",
       "    .dataframe tbody tr th {\n",
       "        vertical-align: top;\n",
       "    }\n",
       "\n",
       "    .dataframe thead th {\n",
       "        text-align: right;\n",
       "    }\n",
       "</style>\n",
       "<table border=\"1\" class=\"dataframe\">\n",
       "  <thead>\n",
       "    <tr style=\"text-align: right;\">\n",
       "      <th></th>\n",
       "      <th>PostalCode</th>\n",
       "      <th>Borough</th>\n",
       "      <th>Neighborhood</th>\n",
       "    </tr>\n",
       "  </thead>\n",
       "  <tbody>\n",
       "    <tr>\n",
       "      <th>0</th>\n",
       "      <td>M3A</td>\n",
       "      <td>North York</td>\n",
       "      <td>Parkwoods)\\n\\n</td>\n",
       "    </tr>\n",
       "    <tr>\n",
       "      <th>1</th>\n",
       "      <td>M4A</td>\n",
       "      <td>North York</td>\n",
       "      <td>Victoria Village)\\n\\n</td>\n",
       "    </tr>\n",
       "    <tr>\n",
       "      <th>2</th>\n",
       "      <td>M5A</td>\n",
       "      <td>Downtown Toronto</td>\n",
       "      <td>Regent Park / Harbourfront)\\n\\n</td>\n",
       "    </tr>\n",
       "    <tr>\n",
       "      <th>3</th>\n",
       "      <td>M6A</td>\n",
       "      <td>North York</td>\n",
       "      <td>Lawrence Manor / Lawrence Heights)\\n\\n</td>\n",
       "    </tr>\n",
       "    <tr>\n",
       "      <th>4</th>\n",
       "      <td>M7A</td>\n",
       "      <td>Queen's Park</td>\n",
       "      <td>Ontario Provincial Government)\\n\\n</td>\n",
       "    </tr>\n",
       "  </tbody>\n",
       "</table>\n",
       "</div>"
      ],
      "text/plain": [
       "  PostalCode           Borough                            Neighborhood\n",
       "0        M3A        North York                          Parkwoods)\\n\\n\n",
       "1        M4A        North York                   Victoria Village)\\n\\n\n",
       "2        M5A  Downtown Toronto         Regent Park / Harbourfront)\\n\\n\n",
       "3        M6A        North York  Lawrence Manor / Lawrence Heights)\\n\\n\n",
       "4        M7A      Queen's Park      Ontario Provincial Government)\\n\\n"
      ]
     },
     "execution_count": 15,
     "metadata": {},
     "output_type": "execute_result"
    }
   ],
   "source": [
    "df = pd.DataFrame(dict)\n",
    "df.head()"
   ]
  },
  {
   "cell_type": "code",
   "execution_count": 16,
   "id": "mexican-contemporary",
   "metadata": {},
   "outputs": [],
   "source": [
    "for i in range(0, len(df['Neighborhood'])):\n",
    "    df['Neighborhood'][i] = df['Neighborhood'][i].split(')')[0]"
   ]
  },
  {
   "cell_type": "code",
   "execution_count": 17,
   "id": "involved-hudson",
   "metadata": {},
   "outputs": [
    {
     "data": {
      "text/html": [
       "<div>\n",
       "<style scoped>\n",
       "    .dataframe tbody tr th:only-of-type {\n",
       "        vertical-align: middle;\n",
       "    }\n",
       "\n",
       "    .dataframe tbody tr th {\n",
       "        vertical-align: top;\n",
       "    }\n",
       "\n",
       "    .dataframe thead th {\n",
       "        text-align: right;\n",
       "    }\n",
       "</style>\n",
       "<table border=\"1\" class=\"dataframe\">\n",
       "  <thead>\n",
       "    <tr style=\"text-align: right;\">\n",
       "      <th></th>\n",
       "      <th>PostalCode</th>\n",
       "      <th>Borough</th>\n",
       "      <th>Neighborhood</th>\n",
       "    </tr>\n",
       "  </thead>\n",
       "  <tbody>\n",
       "    <tr>\n",
       "      <th>0</th>\n",
       "      <td>M3A</td>\n",
       "      <td>North York</td>\n",
       "      <td>Parkwoods</td>\n",
       "    </tr>\n",
       "    <tr>\n",
       "      <th>1</th>\n",
       "      <td>M4A</td>\n",
       "      <td>North York</td>\n",
       "      <td>Victoria Village</td>\n",
       "    </tr>\n",
       "    <tr>\n",
       "      <th>2</th>\n",
       "      <td>M5A</td>\n",
       "      <td>Downtown Toronto</td>\n",
       "      <td>Regent Park / Harbourfront</td>\n",
       "    </tr>\n",
       "    <tr>\n",
       "      <th>3</th>\n",
       "      <td>M6A</td>\n",
       "      <td>North York</td>\n",
       "      <td>Lawrence Manor / Lawrence Heights</td>\n",
       "    </tr>\n",
       "    <tr>\n",
       "      <th>4</th>\n",
       "      <td>M7A</td>\n",
       "      <td>Queen's Park</td>\n",
       "      <td>Ontario Provincial Government</td>\n",
       "    </tr>\n",
       "  </tbody>\n",
       "</table>\n",
       "</div>"
      ],
      "text/plain": [
       "  PostalCode           Borough                       Neighborhood\n",
       "0        M3A        North York                          Parkwoods\n",
       "1        M4A        North York                   Victoria Village\n",
       "2        M5A  Downtown Toronto         Regent Park / Harbourfront\n",
       "3        M6A        North York  Lawrence Manor / Lawrence Heights\n",
       "4        M7A      Queen's Park      Ontario Provincial Government"
      ]
     },
     "execution_count": 17,
     "metadata": {},
     "output_type": "execute_result"
    }
   ],
   "source": [
    "df.head()"
   ]
  },
  {
   "cell_type": "code",
   "execution_count": 18,
   "id": "incredible-gospel",
   "metadata": {},
   "outputs": [
    {
     "data": {
      "text/html": [
       "<div>\n",
       "<style scoped>\n",
       "    .dataframe tbody tr th:only-of-type {\n",
       "        vertical-align: middle;\n",
       "    }\n",
       "\n",
       "    .dataframe tbody tr th {\n",
       "        vertical-align: top;\n",
       "    }\n",
       "\n",
       "    .dataframe thead th {\n",
       "        text-align: right;\n",
       "    }\n",
       "</style>\n",
       "<table border=\"1\" class=\"dataframe\">\n",
       "  <thead>\n",
       "    <tr style=\"text-align: right;\">\n",
       "      <th></th>\n",
       "      <th>PostalCode</th>\n",
       "      <th>Borough</th>\n",
       "      <th>Neighborhood</th>\n",
       "    </tr>\n",
       "  </thead>\n",
       "  <tbody>\n",
       "    <tr>\n",
       "      <th>0</th>\n",
       "      <td>M3A</td>\n",
       "      <td>North York</td>\n",
       "      <td>Parkwoods</td>\n",
       "    </tr>\n",
       "    <tr>\n",
       "      <th>1</th>\n",
       "      <td>M4A</td>\n",
       "      <td>North York</td>\n",
       "      <td>Victoria Village</td>\n",
       "    </tr>\n",
       "    <tr>\n",
       "      <th>2</th>\n",
       "      <td>M5A</td>\n",
       "      <td>Downtown Toronto</td>\n",
       "      <td>Regent Park,Harbourfront</td>\n",
       "    </tr>\n",
       "    <tr>\n",
       "      <th>3</th>\n",
       "      <td>M6A</td>\n",
       "      <td>North York</td>\n",
       "      <td>Lawrence Manor,Lawrence Heights</td>\n",
       "    </tr>\n",
       "    <tr>\n",
       "      <th>4</th>\n",
       "      <td>M7A</td>\n",
       "      <td>Queen's Park</td>\n",
       "      <td>Ontario Provincial Government</td>\n",
       "    </tr>\n",
       "  </tbody>\n",
       "</table>\n",
       "</div>"
      ],
      "text/plain": [
       "  PostalCode           Borough                     Neighborhood\n",
       "0        M3A        North York                        Parkwoods\n",
       "1        M4A        North York                 Victoria Village\n",
       "2        M5A  Downtown Toronto         Regent Park,Harbourfront\n",
       "3        M6A        North York  Lawrence Manor,Lawrence Heights\n",
       "4        M7A      Queen's Park    Ontario Provincial Government"
      ]
     },
     "execution_count": 18,
     "metadata": {},
     "output_type": "execute_result"
    }
   ],
   "source": [
    "for i in range(0, len(df['Neighborhood'])):\n",
    "    df['Neighborhood'][i] = df['Neighborhood'][i].replace(' / ', ',')\n",
    "    \n",
    "df.head()"
   ]
  },
  {
   "cell_type": "code",
   "execution_count": 19,
   "id": "social-spring",
   "metadata": {},
   "outputs": [
    {
     "data": {
      "text/html": [
       "<div>\n",
       "<style scoped>\n",
       "    .dataframe tbody tr th:only-of-type {\n",
       "        vertical-align: middle;\n",
       "    }\n",
       "\n",
       "    .dataframe tbody tr th {\n",
       "        vertical-align: top;\n",
       "    }\n",
       "\n",
       "    .dataframe thead th {\n",
       "        text-align: right;\n",
       "    }\n",
       "</style>\n",
       "<table border=\"1\" class=\"dataframe\">\n",
       "  <thead>\n",
       "    <tr style=\"text-align: right;\">\n",
       "      <th></th>\n",
       "      <th>PostalCode</th>\n",
       "      <th>Borough</th>\n",
       "      <th>Neighborhood</th>\n",
       "    </tr>\n",
       "  </thead>\n",
       "  <tbody>\n",
       "    <tr>\n",
       "      <th>0</th>\n",
       "      <td>M3A</td>\n",
       "      <td>North York</td>\n",
       "      <td>Parkwoods</td>\n",
       "    </tr>\n",
       "    <tr>\n",
       "      <th>1</th>\n",
       "      <td>M4A</td>\n",
       "      <td>North York</td>\n",
       "      <td>Victoria Village</td>\n",
       "    </tr>\n",
       "    <tr>\n",
       "      <th>2</th>\n",
       "      <td>M5A</td>\n",
       "      <td>Downtown Toronto</td>\n",
       "      <td>Regent Park,Harbourfront</td>\n",
       "    </tr>\n",
       "    <tr>\n",
       "      <th>3</th>\n",
       "      <td>M6A</td>\n",
       "      <td>North York</td>\n",
       "      <td>Lawrence Manor,Lawrence Heights</td>\n",
       "    </tr>\n",
       "    <tr>\n",
       "      <th>4</th>\n",
       "      <td>M7A</td>\n",
       "      <td>Queen's Park</td>\n",
       "      <td>Ontario Provincial Government</td>\n",
       "    </tr>\n",
       "    <tr>\n",
       "      <th>5</th>\n",
       "      <td>M9A</td>\n",
       "      <td>Etobicoke</td>\n",
       "      <td>Islington Avenue</td>\n",
       "    </tr>\n",
       "    <tr>\n",
       "      <th>6</th>\n",
       "      <td>M1B</td>\n",
       "      <td>Scarborough</td>\n",
       "      <td>Malvern,Rouge</td>\n",
       "    </tr>\n",
       "    <tr>\n",
       "      <th>7</th>\n",
       "      <td>M3B</td>\n",
       "      <td>North York</td>\n",
       "      <td>Don Mills</td>\n",
       "    </tr>\n",
       "    <tr>\n",
       "      <th>8</th>\n",
       "      <td>M4B</td>\n",
       "      <td>East York</td>\n",
       "      <td>Parkview Hill,Woodbine Gardens</td>\n",
       "    </tr>\n",
       "    <tr>\n",
       "      <th>9</th>\n",
       "      <td>M5B</td>\n",
       "      <td>Downtown Toronto</td>\n",
       "      <td>Garden District, Ryerson</td>\n",
       "    </tr>\n",
       "    <tr>\n",
       "      <th>10</th>\n",
       "      <td>M6B</td>\n",
       "      <td>North York</td>\n",
       "      <td>Glencairn</td>\n",
       "    </tr>\n",
       "    <tr>\n",
       "      <th>11</th>\n",
       "      <td>M9B</td>\n",
       "      <td>Etobicoke</td>\n",
       "      <td>West Deane Park,Princess Gardens,Martin Grove,...</td>\n",
       "    </tr>\n",
       "  </tbody>\n",
       "</table>\n",
       "</div>"
      ],
      "text/plain": [
       "   PostalCode           Borough  \\\n",
       "0         M3A        North York   \n",
       "1         M4A        North York   \n",
       "2         M5A  Downtown Toronto   \n",
       "3         M6A        North York   \n",
       "4         M7A      Queen's Park   \n",
       "5         M9A         Etobicoke   \n",
       "6         M1B       Scarborough   \n",
       "7         M3B        North York   \n",
       "8         M4B         East York   \n",
       "9         M5B  Downtown Toronto   \n",
       "10        M6B        North York   \n",
       "11        M9B         Etobicoke   \n",
       "\n",
       "                                         Neighborhood  \n",
       "0                                           Parkwoods  \n",
       "1                                    Victoria Village  \n",
       "2                            Regent Park,Harbourfront  \n",
       "3                     Lawrence Manor,Lawrence Heights  \n",
       "4                       Ontario Provincial Government  \n",
       "5                                    Islington Avenue  \n",
       "6                                       Malvern,Rouge  \n",
       "7                                           Don Mills  \n",
       "8                      Parkview Hill,Woodbine Gardens  \n",
       "9                            Garden District, Ryerson  \n",
       "10                                          Glencairn  \n",
       "11  West Deane Park,Princess Gardens,Martin Grove,...  "
      ]
     },
     "execution_count": 19,
     "metadata": {},
     "output_type": "execute_result"
    }
   ],
   "source": [
    "df['Borough']=df['Borough'].replace({'Downtown TorontoStn A PO Boxes25 The Esplanade':'Downtown Toronto Stn A',\n",
    "                                             'East TorontoBusiness reply mail Processing Centre969 Eastern':'East Toronto Business',\n",
    "                                             'EtobicokeNorthwest':'Etobicoke Northwest','East YorkEast Toronto':'East York/East Toronto',\n",
    "                                             'MississaugaCanada Post Gateway Processing Centre':'Mississauga'})\n",
    "\n",
    "df.head(12)"
   ]
  },
  {
   "cell_type": "code",
   "execution_count": 20,
   "id": "affected-helping",
   "metadata": {},
   "outputs": [
    {
     "data": {
      "text/plain": [
       "(103, 3)"
      ]
     },
     "execution_count": 20,
     "metadata": {},
     "output_type": "execute_result"
    }
   ],
   "source": [
    "df.shape"
   ]
  },
  {
   "cell_type": "markdown",
   "id": "nearby-problem",
   "metadata": {},
   "source": [
    "## 2. Getting latitude and longitude"
   ]
  },
  {
   "cell_type": "code",
   "execution_count": 21,
   "id": "modular-hobby",
   "metadata": {},
   "outputs": [
    {
     "data": {
      "text/html": [
       "<div>\n",
       "<style scoped>\n",
       "    .dataframe tbody tr th:only-of-type {\n",
       "        vertical-align: middle;\n",
       "    }\n",
       "\n",
       "    .dataframe tbody tr th {\n",
       "        vertical-align: top;\n",
       "    }\n",
       "\n",
       "    .dataframe thead th {\n",
       "        text-align: right;\n",
       "    }\n",
       "</style>\n",
       "<table border=\"1\" class=\"dataframe\">\n",
       "  <thead>\n",
       "    <tr style=\"text-align: right;\">\n",
       "      <th></th>\n",
       "      <th>Postal Code</th>\n",
       "      <th>Latitude</th>\n",
       "      <th>Longitude</th>\n",
       "    </tr>\n",
       "  </thead>\n",
       "  <tbody>\n",
       "    <tr>\n",
       "      <th>0</th>\n",
       "      <td>M1B</td>\n",
       "      <td>43.806686</td>\n",
       "      <td>-79.194353</td>\n",
       "    </tr>\n",
       "    <tr>\n",
       "      <th>1</th>\n",
       "      <td>M1C</td>\n",
       "      <td>43.784535</td>\n",
       "      <td>-79.160497</td>\n",
       "    </tr>\n",
       "    <tr>\n",
       "      <th>2</th>\n",
       "      <td>M1E</td>\n",
       "      <td>43.763573</td>\n",
       "      <td>-79.188711</td>\n",
       "    </tr>\n",
       "    <tr>\n",
       "      <th>3</th>\n",
       "      <td>M1G</td>\n",
       "      <td>43.770992</td>\n",
       "      <td>-79.216917</td>\n",
       "    </tr>\n",
       "    <tr>\n",
       "      <th>4</th>\n",
       "      <td>M1H</td>\n",
       "      <td>43.773136</td>\n",
       "      <td>-79.239476</td>\n",
       "    </tr>\n",
       "  </tbody>\n",
       "</table>\n",
       "</div>"
      ],
      "text/plain": [
       "  Postal Code   Latitude  Longitude\n",
       "0         M1B  43.806686 -79.194353\n",
       "1         M1C  43.784535 -79.160497\n",
       "2         M1E  43.763573 -79.188711\n",
       "3         M1G  43.770992 -79.216917\n",
       "4         M1H  43.773136 -79.239476"
      ]
     },
     "execution_count": 21,
     "metadata": {},
     "output_type": "execute_result"
    }
   ],
   "source": [
    "geo = pd.read_csv(\"Geospatial_Coordinates.csv\")\n",
    "geo.head()"
   ]
  },
  {
   "cell_type": "code",
   "execution_count": 22,
   "id": "addressed-premises",
   "metadata": {},
   "outputs": [],
   "source": [
    "merge_df = pd.merge(df, geo, left_on = 'PostalCode', right_on = 'Postal Code')[['PostalCode', 'Borough', 'Neighborhood', 'Latitude', 'Longitude']]"
   ]
  },
  {
   "cell_type": "code",
   "execution_count": 23,
   "id": "lightweight-cannon",
   "metadata": {},
   "outputs": [
    {
     "data": {
      "text/html": [
       "<div>\n",
       "<style scoped>\n",
       "    .dataframe tbody tr th:only-of-type {\n",
       "        vertical-align: middle;\n",
       "    }\n",
       "\n",
       "    .dataframe tbody tr th {\n",
       "        vertical-align: top;\n",
       "    }\n",
       "\n",
       "    .dataframe thead th {\n",
       "        text-align: right;\n",
       "    }\n",
       "</style>\n",
       "<table border=\"1\" class=\"dataframe\">\n",
       "  <thead>\n",
       "    <tr style=\"text-align: right;\">\n",
       "      <th></th>\n",
       "      <th>PostalCode</th>\n",
       "      <th>Borough</th>\n",
       "      <th>Neighborhood</th>\n",
       "      <th>Latitude</th>\n",
       "      <th>Longitude</th>\n",
       "    </tr>\n",
       "  </thead>\n",
       "  <tbody>\n",
       "    <tr>\n",
       "      <th>0</th>\n",
       "      <td>M3A</td>\n",
       "      <td>North York</td>\n",
       "      <td>Parkwoods</td>\n",
       "      <td>43.753259</td>\n",
       "      <td>-79.329656</td>\n",
       "    </tr>\n",
       "    <tr>\n",
       "      <th>1</th>\n",
       "      <td>M4A</td>\n",
       "      <td>North York</td>\n",
       "      <td>Victoria Village</td>\n",
       "      <td>43.725882</td>\n",
       "      <td>-79.315572</td>\n",
       "    </tr>\n",
       "    <tr>\n",
       "      <th>2</th>\n",
       "      <td>M5A</td>\n",
       "      <td>Downtown Toronto</td>\n",
       "      <td>Regent Park,Harbourfront</td>\n",
       "      <td>43.654260</td>\n",
       "      <td>-79.360636</td>\n",
       "    </tr>\n",
       "    <tr>\n",
       "      <th>3</th>\n",
       "      <td>M6A</td>\n",
       "      <td>North York</td>\n",
       "      <td>Lawrence Manor,Lawrence Heights</td>\n",
       "      <td>43.718518</td>\n",
       "      <td>-79.464763</td>\n",
       "    </tr>\n",
       "    <tr>\n",
       "      <th>4</th>\n",
       "      <td>M7A</td>\n",
       "      <td>Queen's Park</td>\n",
       "      <td>Ontario Provincial Government</td>\n",
       "      <td>43.662301</td>\n",
       "      <td>-79.389494</td>\n",
       "    </tr>\n",
       "    <tr>\n",
       "      <th>5</th>\n",
       "      <td>M9A</td>\n",
       "      <td>Etobicoke</td>\n",
       "      <td>Islington Avenue</td>\n",
       "      <td>43.667856</td>\n",
       "      <td>-79.532242</td>\n",
       "    </tr>\n",
       "    <tr>\n",
       "      <th>6</th>\n",
       "      <td>M1B</td>\n",
       "      <td>Scarborough</td>\n",
       "      <td>Malvern,Rouge</td>\n",
       "      <td>43.806686</td>\n",
       "      <td>-79.194353</td>\n",
       "    </tr>\n",
       "    <tr>\n",
       "      <th>7</th>\n",
       "      <td>M3B</td>\n",
       "      <td>North York</td>\n",
       "      <td>Don Mills</td>\n",
       "      <td>43.745906</td>\n",
       "      <td>-79.352188</td>\n",
       "    </tr>\n",
       "    <tr>\n",
       "      <th>8</th>\n",
       "      <td>M4B</td>\n",
       "      <td>East York</td>\n",
       "      <td>Parkview Hill,Woodbine Gardens</td>\n",
       "      <td>43.706397</td>\n",
       "      <td>-79.309937</td>\n",
       "    </tr>\n",
       "    <tr>\n",
       "      <th>9</th>\n",
       "      <td>M5B</td>\n",
       "      <td>Downtown Toronto</td>\n",
       "      <td>Garden District, Ryerson</td>\n",
       "      <td>43.657162</td>\n",
       "      <td>-79.378937</td>\n",
       "    </tr>\n",
       "    <tr>\n",
       "      <th>10</th>\n",
       "      <td>M6B</td>\n",
       "      <td>North York</td>\n",
       "      <td>Glencairn</td>\n",
       "      <td>43.709577</td>\n",
       "      <td>-79.445073</td>\n",
       "    </tr>\n",
       "    <tr>\n",
       "      <th>11</th>\n",
       "      <td>M9B</td>\n",
       "      <td>Etobicoke</td>\n",
       "      <td>West Deane Park,Princess Gardens,Martin Grove,...</td>\n",
       "      <td>43.650943</td>\n",
       "      <td>-79.554724</td>\n",
       "    </tr>\n",
       "  </tbody>\n",
       "</table>\n",
       "</div>"
      ],
      "text/plain": [
       "   PostalCode           Borough  \\\n",
       "0         M3A        North York   \n",
       "1         M4A        North York   \n",
       "2         M5A  Downtown Toronto   \n",
       "3         M6A        North York   \n",
       "4         M7A      Queen's Park   \n",
       "5         M9A         Etobicoke   \n",
       "6         M1B       Scarborough   \n",
       "7         M3B        North York   \n",
       "8         M4B         East York   \n",
       "9         M5B  Downtown Toronto   \n",
       "10        M6B        North York   \n",
       "11        M9B         Etobicoke   \n",
       "\n",
       "                                         Neighborhood   Latitude  Longitude  \n",
       "0                                           Parkwoods  43.753259 -79.329656  \n",
       "1                                    Victoria Village  43.725882 -79.315572  \n",
       "2                            Regent Park,Harbourfront  43.654260 -79.360636  \n",
       "3                     Lawrence Manor,Lawrence Heights  43.718518 -79.464763  \n",
       "4                       Ontario Provincial Government  43.662301 -79.389494  \n",
       "5                                    Islington Avenue  43.667856 -79.532242  \n",
       "6                                       Malvern,Rouge  43.806686 -79.194353  \n",
       "7                                           Don Mills  43.745906 -79.352188  \n",
       "8                      Parkview Hill,Woodbine Gardens  43.706397 -79.309937  \n",
       "9                            Garden District, Ryerson  43.657162 -79.378937  \n",
       "10                                          Glencairn  43.709577 -79.445073  \n",
       "11  West Deane Park,Princess Gardens,Martin Grove,...  43.650943 -79.554724  "
      ]
     },
     "execution_count": 23,
     "metadata": {},
     "output_type": "execute_result"
    }
   ],
   "source": [
    "merge_df.head(12)"
   ]
  }
 ],
 "metadata": {
  "kernelspec": {
   "display_name": "Python 3",
   "language": "python",
   "name": "python3"
  },
  "language_info": {
   "codemirror_mode": {
    "name": "ipython",
    "version": 3
   },
   "file_extension": ".py",
   "mimetype": "text/x-python",
   "name": "python",
   "nbconvert_exporter": "python",
   "pygments_lexer": "ipython3",
   "version": "3.8.6"
  }
 },
 "nbformat": 4,
 "nbformat_minor": 5
}
