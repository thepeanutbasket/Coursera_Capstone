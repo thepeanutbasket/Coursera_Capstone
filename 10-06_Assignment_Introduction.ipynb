{
 "cells": [
  {
   "cell_type": "markdown",
   "id": "metric-somewhere",
   "metadata": {},
   "source": [
    "# Optimal Location for an Italian Restaurant in Manhattan"
   ]
  },
  {
   "cell_type": "markdown",
   "id": "intense-incidence",
   "metadata": {},
   "source": [
    "### Introduction"
   ]
  },
  {
   "cell_type": "markdown",
   "id": "missing-fever",
   "metadata": {},
   "source": [
    "In this project, I will try to find an optimal location(postal code) for an Italian restaurant in Manhattan, NY."
   ]
  },
  {
   "cell_type": "markdown",
   "id": "referenced-obligation",
   "metadata": {},
   "source": [
    "I will try to find the location which is generally growded and where there are many restaurants but not a lot of Italian restaurants. Therefore, the first condition will be where people have a good access to many different restaurants, and the second condition will be where there are as few Italian restaurants as possible."
   ]
  },
  {
   "cell_type": "markdown",
   "id": "consecutive-costa",
   "metadata": {},
   "source": [
    "I will use methods that I learned through IBM Data Science courses to explore and utilize the dataset from Foursquare."
   ]
  }
 ],
 "metadata": {
  "kernelspec": {
   "display_name": "Python 3",
   "language": "python",
   "name": "python3"
  },
  "language_info": {
   "codemirror_mode": {
    "name": "ipython",
    "version": 3
   },
   "file_extension": ".py",
   "mimetype": "text/x-python",
   "name": "python",
   "nbconvert_exporter": "python",
   "pygments_lexer": "ipython3",
   "version": "3.8.6"
  }
 },
 "nbformat": 4,
 "nbformat_minor": 5
}
