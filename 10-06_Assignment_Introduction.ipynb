{
 "cells": [
  {
   "cell_type": "markdown",
   "metadata": {},
   "source": [
    "# Comparison of Characteristics of Toronto and New York"
   ]
  },
  {
   "cell_type": "markdown",
   "metadata": {},
   "source": [
    "  Toronto and New York City are very diverse and are the financial capitals of Canada and the United States, respectively. I would like to find out how similar they are to each other and how different they are from each other by exploring and utilizing the dataset collected from Foursquare.  \n",
    "  \n",
    "  I will pick one more city, Paris, which conducts an important role in France and find out if the city is more like New York City or Toronto and provide supporting reasons of it.  \n",
    "  \n",
    "  This will be helpful to those who want to move to either New York City or Toronto from Paris or those who try to extend their business to either New York City or Toronto from Paris."
   ]
  }
 ],
 "metadata": {
  "kernelspec": {
   "display_name": "Python 3",
   "language": "python",
   "name": "python3"
  },
  "language_info": {
   "codemirror_mode": {
    "name": "ipython",
    "version": 3
   },
   "file_extension": ".py",
   "mimetype": "text/x-python",
   "name": "python",
   "nbconvert_exporter": "python",
   "pygments_lexer": "ipython3",
   "version": "3.8.6"
  }
 },
 "nbformat": 4,
 "nbformat_minor": 4
}
